{
 "cells": [
  {
   "cell_type": "code",
   "execution_count": 11,
   "metadata": {},
   "outputs": [],
   "source": [
    "# Importing the required libraries for dataset operations \n",
    "## These are the liberaries used to run LSTM Model. \n",
    "## Keras lib provides accruate results in Machine learning. LSTM is the predictive model \n",
    "## RMSE is used for evaluate the error\n",
    "from numpy import array\n",
    "from pandas import read_csv\n",
    "from math import sqrt\n",
    "from numpy import split\n",
    "\n",
    "# for Deeping learning LSTM \n",
    "from sklearn.metrics import mean_squared_error\n",
    "from matplotlib import pyplot\n",
    "from keras.layers import Flatten\n",
    "from keras.layers import LSTM\n",
    "from keras.models import Sequential\n",
    "from keras.layers import Dense"
   ]
  },
  {
   "cell_type": "code",
   "execution_count": 12,
   "metadata": {},
   "outputs": [],
   "source": [
    "# loading the power consumption dataset of a household\n",
    "## Reading the household Power consumption file, which is already cleaned with missing values and resampled it for days.\n",
    "## Choosing index column as datetime because it is Time series data set\n",
    "## Its is having dates so parse dates is true\n",
    "\n",
    "df = read_csv('household_power_consumption_days.csv', header=0, infer_datetime_format=True, parse_dates=['datetime'], index_col=['datetime'])"
   ]
  },
  {
   "cell_type": "code",
   "execution_count": 13,
   "metadata": {},
   "outputs": [
    {
     "data": {
      "text/html": [
       "<div>\n",
       "<style scoped>\n",
       "    .dataframe tbody tr th:only-of-type {\n",
       "        vertical-align: middle;\n",
       "    }\n",
       "\n",
       "    .dataframe tbody tr th {\n",
       "        vertical-align: top;\n",
       "    }\n",
       "\n",
       "    .dataframe thead th {\n",
       "        text-align: right;\n",
       "    }\n",
       "</style>\n",
       "<table border=\"1\" class=\"dataframe\">\n",
       "  <thead>\n",
       "    <tr style=\"text-align: right;\">\n",
       "      <th></th>\n",
       "      <th>Global_active_power</th>\n",
       "      <th>Global_reactive_power</th>\n",
       "      <th>Voltage</th>\n",
       "      <th>Global_intensity</th>\n",
       "      <th>Sub_metering_1</th>\n",
       "      <th>Sub_metering_2</th>\n",
       "      <th>Sub_metering_3</th>\n",
       "      <th>sub_metering_4</th>\n",
       "    </tr>\n",
       "    <tr>\n",
       "      <th>datetime</th>\n",
       "      <th></th>\n",
       "      <th></th>\n",
       "      <th></th>\n",
       "      <th></th>\n",
       "      <th></th>\n",
       "      <th></th>\n",
       "      <th></th>\n",
       "      <th></th>\n",
       "    </tr>\n",
       "  </thead>\n",
       "  <tbody>\n",
       "    <tr>\n",
       "      <th>2006-12-16</th>\n",
       "      <td>1209.176</td>\n",
       "      <td>34.922</td>\n",
       "      <td>93552.53</td>\n",
       "      <td>5180.8</td>\n",
       "      <td>0.0</td>\n",
       "      <td>546.0</td>\n",
       "      <td>4926.0</td>\n",
       "      <td>14680.933319</td>\n",
       "    </tr>\n",
       "    <tr>\n",
       "      <th>2006-12-17</th>\n",
       "      <td>3390.460</td>\n",
       "      <td>226.006</td>\n",
       "      <td>345725.32</td>\n",
       "      <td>14398.6</td>\n",
       "      <td>2033.0</td>\n",
       "      <td>4187.0</td>\n",
       "      <td>13341.0</td>\n",
       "      <td>36946.666732</td>\n",
       "    </tr>\n",
       "    <tr>\n",
       "      <th>2006-12-18</th>\n",
       "      <td>2203.826</td>\n",
       "      <td>161.792</td>\n",
       "      <td>347373.64</td>\n",
       "      <td>9247.2</td>\n",
       "      <td>1063.0</td>\n",
       "      <td>2621.0</td>\n",
       "      <td>14018.0</td>\n",
       "      <td>19028.433281</td>\n",
       "    </tr>\n",
       "    <tr>\n",
       "      <th>2006-12-19</th>\n",
       "      <td>1666.194</td>\n",
       "      <td>150.942</td>\n",
       "      <td>348479.01</td>\n",
       "      <td>7094.0</td>\n",
       "      <td>839.0</td>\n",
       "      <td>7602.0</td>\n",
       "      <td>6197.0</td>\n",
       "      <td>13131.900043</td>\n",
       "    </tr>\n",
       "    <tr>\n",
       "      <th>2006-12-20</th>\n",
       "      <td>2225.748</td>\n",
       "      <td>160.998</td>\n",
       "      <td>348923.61</td>\n",
       "      <td>9313.0</td>\n",
       "      <td>0.0</td>\n",
       "      <td>2648.0</td>\n",
       "      <td>14063.0</td>\n",
       "      <td>20384.800011</td>\n",
       "    </tr>\n",
       "  </tbody>\n",
       "</table>\n",
       "</div>"
      ],
      "text/plain": [
       "            Global_active_power  Global_reactive_power    Voltage  \\\n",
       "datetime                                                            \n",
       "2006-12-16             1209.176                 34.922   93552.53   \n",
       "2006-12-17             3390.460                226.006  345725.32   \n",
       "2006-12-18             2203.826                161.792  347373.64   \n",
       "2006-12-19             1666.194                150.942  348479.01   \n",
       "2006-12-20             2225.748                160.998  348923.61   \n",
       "\n",
       "            Global_intensity  Sub_metering_1  Sub_metering_2  Sub_metering_3  \\\n",
       "datetime                                                                       \n",
       "2006-12-16            5180.8             0.0           546.0          4926.0   \n",
       "2006-12-17           14398.6          2033.0          4187.0         13341.0   \n",
       "2006-12-18            9247.2          1063.0          2621.0         14018.0   \n",
       "2006-12-19            7094.0           839.0          7602.0          6197.0   \n",
       "2006-12-20            9313.0             0.0          2648.0         14063.0   \n",
       "\n",
       "            sub_metering_4  \n",
       "datetime                    \n",
       "2006-12-16    14680.933319  \n",
       "2006-12-17    36946.666732  \n",
       "2006-12-18    19028.433281  \n",
       "2006-12-19    13131.900043  \n",
       "2006-12-20    20384.800011  "
      ]
     },
     "execution_count": 13,
     "metadata": {},
     "output_type": "execute_result"
    }
   ],
   "source": [
    "## Now its in days reading\n",
    "df.head()"
   ]
  },
  {
   "cell_type": "code",
   "execution_count": 14,
   "metadata": {},
   "outputs": [
    {
     "data": {
      "text/plain": [
       "(1442, 8)"
      ]
     },
     "execution_count": 14,
     "metadata": {},
     "output_type": "execute_result"
    }
   ],
   "source": [
    "df.shape"
   ]
  },
  {
   "cell_type": "code",
   "execution_count": 9,
   "metadata": {},
   "outputs": [
    {
     "data": {
      "text/plain": [
       "<bound method DataFrame.info of             Global_active_power  Global_reactive_power    Voltage  \\\n",
       "datetime                                                            \n",
       "2006-12-16             1209.176                 34.922   93552.53   \n",
       "2006-12-17             3390.460                226.006  345725.32   \n",
       "2006-12-18             2203.826                161.792  347373.64   \n",
       "2006-12-19             1666.194                150.942  348479.01   \n",
       "2006-12-20             2225.748                160.998  348923.61   \n",
       "...                         ...                    ...        ...   \n",
       "2010-11-22             2041.536                142.354  345883.85   \n",
       "2010-11-23             1577.536                137.450  346428.76   \n",
       "2010-11-24             1796.248                132.460  345644.59   \n",
       "2010-11-25             1431.164                116.128  347812.21   \n",
       "2010-11-26             1488.104                120.826  303487.57   \n",
       "\n",
       "            Global_intensity  Sub_metering_1  Sub_metering_2  Sub_metering_3  \\\n",
       "datetime                                                                       \n",
       "2006-12-16            5180.8             0.0           546.0          4926.0   \n",
       "2006-12-17           14398.6          2033.0          4187.0         13341.0   \n",
       "2006-12-18            9247.2          1063.0          2621.0         14018.0   \n",
       "2006-12-19            7094.0           839.0          7602.0          6197.0   \n",
       "2006-12-20            9313.0             0.0          2648.0         14063.0   \n",
       "...                      ...             ...             ...             ...   \n",
       "2010-11-22            8660.4          4855.0          2110.0         10136.0   \n",
       "2010-11-23            6731.2          1871.0           458.0          7611.0   \n",
       "2010-11-24            7559.4          1096.0          2848.0         12224.0   \n",
       "2010-11-25            6004.0          1076.0           426.0          5072.0   \n",
       "2010-11-26            6259.8          1080.0           385.0          9989.0   \n",
       "\n",
       "            sub_metering_4  \n",
       "datetime                    \n",
       "2006-12-16    14680.933319  \n",
       "2006-12-17    36946.666732  \n",
       "2006-12-18    19028.433281  \n",
       "2006-12-19    13131.900043  \n",
       "2006-12-20    20384.800011  \n",
       "...                    ...  \n",
       "2010-11-22    16924.600023  \n",
       "2010-11-23    16352.266679  \n",
       "2010-11-24    13769.466664  \n",
       "2010-11-25    17278.733338  \n",
       "2010-11-26    13347.733336  \n",
       "\n",
       "[1442 rows x 8 columns]>"
      ]
     },
     "execution_count": 9,
     "metadata": {},
     "output_type": "execute_result"
    }
   ],
   "source": [
    "df.info"
   ]
  },
  {
   "cell_type": "code",
   "execution_count": 15,
   "metadata": {},
   "outputs": [],
   "source": [
    "## Separate in Training and testing dataset into standard weeks, these weeks begin on Sunday and end on Saturday.\n",
    "## Lets consider for training set starting from year 2006 to 2009. \n",
    "## Lets consider for testing set for the year 2010\n",
    "## Data for Training (Only data of 159 weeks, Starting from December 17, 2006(first Sunday) till end of the week in 2009) \n",
    "## Data for Testing (Only data of 46 weeks, Starting from Jan 3, 2010(first Sunday) till end of the week in 2010)\n",
    "# split a dataset into train/test sets\n",
    "\n",
    "\n",
    "def split_df(df):\n",
    "    \n",
    "    # fucntion to split the df into standard weeks \n",
    "    \n",
    "    train, test = df[1:-328], df[-328:-6]\n",
    "    \n",
    "    # assigning into weekly basis by divinding by 7 days\n",
    "    \n",
    "    train = array(split(train, len(train)/7))\n",
    "    test = array(split(test, len(test)/7))\n",
    "    \n",
    "    return train, test"
   ]
  },
  {
   "cell_type": "code",
   "execution_count": 16,
   "metadata": {},
   "outputs": [],
   "source": [
    "# split into train and test\n",
    "train, test = split_df(df.values)"
   ]
  },
  {
   "cell_type": "code",
   "execution_count": 17,
   "metadata": {},
   "outputs": [
    {
     "data": {
      "text/plain": [
       "(159, 7, 8)"
      ]
     },
     "execution_count": 17,
     "metadata": {},
     "output_type": "execute_result"
    }
   ],
   "source": [
    "train.shape"
   ]
  },
  {
   "cell_type": "code",
   "execution_count": 18,
   "metadata": {},
   "outputs": [
    {
     "data": {
      "text/plain": [
       "(46, 7, 8)"
      ]
     },
     "execution_count": 18,
     "metadata": {},
     "output_type": "execute_result"
    }
   ],
   "source": [
    "test.shape"
   ]
  },
  {
   "cell_type": "code",
   "execution_count": 20,
   "metadata": {},
   "outputs": [
    {
     "data": {
      "text/plain": [
       "<matplotlib.axes._subplots.AxesSubplot at 0x1b40888ec10>"
      ]
     },
     "execution_count": 20,
     "metadata": {},
     "output_type": "execute_result"
    },
    {
     "data": {
      "image/png": "[encoded data removed]",
      "text/plain": [
       "<Figure size 432x288 with 1 Axes>"
      ]
     },
     "metadata": {
      "needs_background": "light"
     },
     "output_type": "display_data"
    }
   ],
   "source": [
    "df.plot()"
   ]
  },
  {
   "cell_type": "code",
   "execution_count": null,
   "metadata": {},
   "outputs": [],
   "source": [
    "## So the number of weeks for training set is 159 and for testing set is 46"
   ]
  },
  {
   "cell_type": "code",
   "execution_count": 6,
   "metadata": {},
   "outputs": [],
   "source": [
    "## This involves framing the dataset as supervised learning problem.\n",
    "## Framing the supervised learning problem as predicting the power consumption and  convert history into inputs and outputs\n",
    "# Sequence is given so that the output of the first week prediction will be added to the second week: for example\n",
    "# week 1, input_end = 0 + we provide input as 7 days this give value for week 2\n",
    "# then week 1+ week2 = week 3,\n",
    "# then week 1+ week2 + week3 = week4 , This how the formula works. LSTM needs to be reshaped.# same procedure will follow for y values and it is stored in array x and array y\n",
    "def supervised_model(train, we_input, we_output=7): \n",
    "    df= train.reshape((train.shape[0]*train.shape[1],train.shape[2]))\n",
    "    X, y= list(), list()\n",
    "    input_start = 0\n",
    "    for _ in range(len(df)):\n",
    "        input_end= input_start + we_input\n",
    "        output_end= input_end + we_output\n",
    "        if output_end <= len(df):\n",
    "            x_input= df[input_start: input_end, 0]\n",
    "            x_input= x_input.reshape((len(x_input),1))\n",
    "            X.append(x_input)\n",
    "            y.append(df[input_end:output_end,0])\n",
    "        input_start+= 1\n",
    "    return array(X), array(y)    \n",
    "   "
   ]
  },
  {
   "cell_type": "code",
   "execution_count": 8,
   "metadata": {},
   "outputs": [],
   "source": [
    "## Same model we built for 24hrs prediction only changes is here we added dense layer 100. \n",
    "## Define LSTM with 200 neurons in the first hidden layer and 1 neuron in the output layer for predicting power consumption.\n",
    "## The input shape will 1 time step with 8 features \n",
    "## Using Mean Absolute error(MSE) loss function and the efficient adam version stochastic gradient descent \n",
    "## The model will be fit for 70 training epchos with a batch size of 16. \n",
    "##ref https://machinelearningmastery.com/how-to-develop-lstm-models-for-multi-step-time-series-forecasting-of-household-power-consumption/\n",
    "# to prepare training data by creating LSTM model\n",
    "def LSTM_model(train,we_input):\n",
    "    train_xset,train_yset= supervised_model(train,we_input)\n",
    "    model = Sequential()\n",
    "    model.add(LSTM(200, activation='relu', input_shape=(train_xset.shape[1], train_xset.shape[2])))\n",
    "    model.add(Dense(100, activation='relu'))\n",
    "    model.add(Dense(train_yset.shape[1]))\n",
    "    model.compile(loss='mse', optimizer='adam')\n",
    "    # fit Model\n",
    "    model.fit(train_xset, train_yset, epochs=70, batch_size=16, verbose=0)\n",
    "    return model"
   ]
  },
  {
   "cell_type": "code",
   "execution_count": 32,
   "metadata": {},
   "outputs": [],
   "source": [
    "# make a forecast \n",
    "# reshaping the data \n",
    "## we want to make forecast for a week, we weed the last 7 days values\n",
    "def forecast_model(model, history, we_input):\n",
    "    df=array(history)\n",
    "    df= df.reshape((df.shape[0]*df.shape[1],df.shape[2]))\n",
    "    input_x=df[-we_input:,0]\n",
    "    input_x= input_x.reshape((1,len(input_x),1))\n",
    "    y_pred= model.predict(input_x, verbose=0)\n",
    "    y_pred=y_pred[0]\n",
    "    return y_pred"
   ]
  },
  {
   "cell_type": "code",
   "execution_count": 33,
   "metadata": {},
   "outputs": [],
   "source": [
    "# we want to evaluate model now\n",
    "def evaluate(train, test, we_input):\n",
    "    model=LSTM_model(train, we_input)\n",
    "    history=[x for x in train]\n",
    "    forecasts=list()\n",
    "    for i in range(len(test)):\n",
    "        y_pred_weekly=forecast_model(model, history, we_input)\n",
    "        forecasts.append(y_pred_weekly)\n",
    "        history.append(test[i,:])\n",
    "    forecasts=array(forecasts)\n",
    "    scores,score=evaluate_forecasts(test[:,:,0],forecasts)\n",
    "    return scores,score\n"
   ]
  },
  {
   "cell_type": "code",
   "execution_count": 35,
   "metadata": {},
   "outputs": [],
   "source": [
    "# sumup _scores\n",
    "def sumup_scores(name, score, scores):\n",
    "    s_scores = ', '.join(['%.1f' % s for s in scores])\n",
    "    print('%s: [%.3f] %s' % (name, score, s_scores))"
   ]
  },
  {
   "cell_type": "code",
   "execution_count": 36,
   "metadata": {},
   "outputs": [],
   "source": [
    "# Same as like in previous method in prediction of an hour, calculating the error values\n",
    "#evaluate one or more weekly forecasts against expected values, \n",
    "def evaluate_forecasts(actual, predicted):\n",
    "    ## This is the calculation for each day\n",
    "    scores=list()\n",
    "    for i in range(actual.shape[1]):\n",
    "        # calculate mean_squared_error\n",
    "        mse = mean_squared_error(actual[:, i], predicted[:, i])\n",
    "        # calculate root_mean_squared_error\n",
    "        rmse = sqrt(mse)\n",
    "        # stored in scores. It shows the final error for individual days.\n",
    "        scores.append(rmse)\n",
    "    # calculate overall root_mean_squared_error, It stored in score so RMSE of overall is score value\n",
    "    s = 0\n",
    "    for row in range(actual.shape[0]):\n",
    "        for col in range(actual.shape[1]):\n",
    "            s += (actual[row, col] - predicted[row, col])**2\n",
    "    score = sqrt(s / (actual.shape[0] * actual.shape[1]))\n",
    "    return score, scores\n"
   ]
  },
  {
   "cell_type": "code",
   "execution_count": 37,
   "metadata": {},
   "outputs": [
    {
     "name": "stdout",
     "output_type": "stream",
     "text": [
      "lstm: [391.923] 407.5, 404.6, 365.9, 385.5, 399.9, 313.3, 452.6\n"
     ]
    },
    {
     "data": {
      "image/png": "[encoded data removed]",
      "text/plain": [
       "<Figure size 432x288 with 1 Axes>"
      ]
     },
     "metadata": {
      "needs_background": "light"
     },
     "output_type": "display_data"
    }
   ],
   "source": [
    "# evaluate model and get rmse value for 7 days input and ploting RMSE error in power concumptiom\n",
    "## Printing the for overall and individual days of the week. \n",
    "we_input = 7\n",
    "train, test = split_df(df.values)\n",
    "score, scores = evaluate(train, test, we_input)\n",
    "sumup_scores('lstm', score, scores)  \n",
    "days = ['sun', 'mon', 'tue', 'wed', 'thr', 'fri', 'sat']\n",
    "pyplot.plot(days, scores, marker='o', label='lstm')\n",
    "pyplot.show()"
   ]
  },
  {
   "cell_type": "code",
   "execution_count": 38,
   "metadata": {},
   "outputs": [
    {
     "name": "stdout",
     "output_type": "stream",
     "text": [
      "lstm: [370.915] 369.3, 387.2, 348.9, 371.3, 375.5, 299.2, 432.0\n"
     ]
    },
    {
     "data": {
      "image/png": "[encoded data removed]",
      "text/plain": [
       "<Figure size 432x288 with 1 Axes>"
      ]
     },
     "metadata": {
      "needs_background": "light"
     },
     "output_type": "display_data"
    }
   ],
   "source": [
    "# evaluate model and get rmse value for 14 days input and ploting RMSE error in power concumptiom\n",
    "we_input = 14\n",
    "train, test = split_df(df.values)\n",
    "score, scores = evaluate(train, test, we_input)\n",
    "sumup_scores('lstm', score, scores)  \n",
    "days = ['sun', 'mon', 'tue', 'wed', 'thr', 'fri', 'sat']\n",
    "pyplot.plot(days, scores, marker='o', label='lstm')\n",
    "pyplot.show()"
   ]
  },
  {
   "cell_type": "code",
   "execution_count": 39,
   "metadata": {},
   "outputs": [
    {
     "name": "stdout",
     "output_type": "stream",
     "text": [
      "lstm: [370.628] 387.7, 360.9, 338.4, 382.7, 375.9, 288.8, 441.9\n"
     ]
    },
    {
     "data": {
      "image/png": "[encoded data removed]",
      "text/plain": [
       "<Figure size 432x288 with 1 Axes>"
      ]
     },
     "metadata": {
      "needs_background": "light"
     },
     "output_type": "display_data"
    }
   ],
   "source": [
    "# evaluate model and get rmse value for 21 days input and  ploting RMSE error in power concumptiom\n",
    "we_input = 21\n",
    "train, test = split_df(df.values)\n",
    "score, scores = evaluate(train, test, we_input)\n",
    "sumup_scores('lstm', score, scores)  \n",
    "days = ['sun', 'mon', 'tue', 'wed', 'thr', 'fri', 'sat']\n",
    "pyplot.plot(days, scores, marker='o', label='lstm')\n",
    "pyplot.show()"
   ]
  },
  {
   "cell_type": "code",
   "execution_count": 20,
   "metadata": {},
   "outputs": [
    {
     "name": "stdout",
     "output_type": "stream",
     "text": [
      "lstm: [387.332] 414.8, 387.6, 344.1, 384.5, 362.0, 314.9, 481.0\n"
     ]
    },
    {
     "data": {
      "image/png": "[encoded data removed]",
      "text/plain": [
       "<Figure size 432x288 with 1 Axes>"
      ]
     },
     "metadata": {
      "needs_background": "light"
     },
     "output_type": "display_data"
    }
   ],
   "source": [
    "# evaluate model and get rmse value for 28 days input and ploting RMSE error in power concumptiom\n",
    "we_input = 28\n",
    "train, test = split_df(df.values)\n",
    "score, scores = evaluate(train, test, we_input)\n",
    "sumup_scores('lstm', score, scores)  \n",
    "days = ['sun', 'mon', 'tue', 'wed', 'thr', 'fri', 'sat']\n",
    "pyplot.plot(days, scores, marker='o', label='lstm')\n",
    "pyplot.show()"
   ]
  },
  {
   "cell_type": "code",
   "execution_count": 21,
   "metadata": {},
   "outputs": [],
   "source": [
    "## obverving the results , It is easy to forecast on Tuesdays and fridays compared to weekend on saturdays.    \n"
   ]
  },
  {
   "cell_type": "code",
   "execution_count": null,
   "metadata": {},
   "outputs": [],
   "source": []
  }
 ],
 "metadata": {
  "kernelspec": {
   "display_name": "Python 3",
   "language": "python",
   "name": "python3"
  },
  "language_info": {
   "codemirror_mode": {
    "name": "ipython",
    "version": 3
   },
   "file_extension": ".py",
   "mimetype": "text/x-python",
   "name": "python",
   "nbconvert_exporter": "python",
   "pygments_lexer": "ipython3",
   "version": "3.8.3"
  }
 },
 "nbformat": 4,
 "nbformat_minor": 4
}
